{
 "cells": [
  {
   "cell_type": "code",
   "execution_count": 1,
   "metadata": {},
   "outputs": [],
   "source": [
    "import pandas as pd\n",
    "from numpy import nan"
   ]
  },
  {
   "cell_type": "code",
   "execution_count": 2,
   "metadata": {},
   "outputs": [],
   "source": [
    "data_folder = 'data/interim/um/'\n",
    "mapping_file = 'mapping.xlsx'"
   ]
  },
  {
   "cell_type": "code",
   "execution_count": 3,
   "metadata": {},
   "outputs": [],
   "source": [
    "mapping = pd.read_excel(mapping_file)"
   ]
  },
  {
   "cell_type": "code",
   "execution_count": 4,
   "metadata": {},
   "outputs": [
    {
     "name": "stdout",
     "output_type": "stream",
     "text": [
      "data/interim/um/Emergency/F_OutcomesReport_EMERGMED_1_2-1_29\n",
      "data/interim/um/Emergency/F_OutcomesReport_EMERGMED_1_29-2_26\n",
      "data/interim/um/Emergency/F_OutcomesReport_EMERGMED_2_26-4_8\n",
      "data/interim/um/Emergency/F_OutcomesReport_EMERGMED_4_8-5_6\n",
      "data/interim/um/Emergency/F_OutcomesReport_EMERGMED_5_6-6_3\n",
      "data/interim/um/Emergency/F_OutcomesReport_EMERGMED_6_3-7_1\n",
      "data/interim/um/Emergency/F_OutcomesReport_EMERGMED_8_28-9_25\n",
      "data/interim/um/Emergency/F_OutcomesReport_EMERGMED_9_25-10_23\n",
      "data/interim/um/Emergency/F_OutcomesReport_EMERGMED_10_23-11_20\n",
      "data/interim/um/Emergency/F_OutcomesReport_EMERGMED_11_20-1_2\n",
      "data/interim/um/Family Med/Copy of Raw data FM 8.8.2024\n",
      "data/interim/um/Internal Medicine/IM block 4\n",
      "data/interim/um/Internal Medicine/Block10\n",
      "data/interim/um/Internal Medicine/Block 7 finished reviews\n",
      "data/interim/um/Internal Medicine/Block 1\n",
      "data/interim/um/Neuro/Formative Feedback - Neurology Clerkship - Period 2\n",
      "data/interim/um/Neuro/Formative Feedback - Neurology Clerkship - Period 3\n",
      "data/interim/um/Neuro/Formative Feedback - Neurology Clerkship - Period 4\n",
      "data/interim/um/Neuro/Formative Feedback - Neurology Clerkship - Period 5\n",
      "data/interim/um/Neuro/Formative Feedback - Neurology Clerkship - Period 6\n",
      "data/interim/um/Neuro/Formative Feedback - Neurology Clerkship - Period 8\n",
      "data/interim/um/Neuro/Formative Feedback - Neurology Clerkship - Period 9\n",
      "data/interim/um/Neuro/Formative Feedback - Neurology Clerkship - Period 10\n",
      "data/interim/um/Neuro/Formative Feedback - Neurology Clerkship - Period 11\n",
      "data/interim/um/Neuro/Formative Feedback - Neurology Clerkship - Period 12\n",
      "data/interim/um/Neuro/Formative Feedback Neurology Clerkship - Period 1\n",
      "data/interim/um/Ob/Copy of Data for MS\n",
      "data/interim/um/Ob/Qual scores Ob 10-24\n",
      "data/interim/um/Peds/peds Formative feedback_scored_Feb 2024\n",
      "data/interim/um/Surgery/OutcomesReport_SURGERY_2023_CT_048056_9P10\n",
      "data/interim/um/Surgery/QUAL_SURGERY_2023_CT_048056_7P7\n",
      "data/interim/um/Surgery/QUALReport_SURGERY_2024_CT_048056_1P1\n",
      "data/interim/um/Surgery/QUALReport_SURGERY_2024_CT_048056_4P4\n",
      "data/interim/um/Surgery/1P1-MaxExtract\n",
      "data/interim/um/Surgery/1P1-MaxExtract2\n"
     ]
    }
   ],
   "source": [
    "dfs = []\n",
    "for i, r in mapping.iterrows():\n",
    "    fn = data_folder + r['folder'] + '/' + r['file']\n",
    "    print(fn)\n",
    "    if r['extension'] == 'xlsx':\n",
    "        df = pd.read_excel(fn + '.xlsx', header=(0 if r['has_headers'] else None))\n",
    "    elif r['extension'] == 'csv':\n",
    "        df = pd.read_csv(fn + '.csv', header=(0 if r['has_headers'] else None))\n",
    "    \n",
    "    simple_cols = ['assessor', 'assessor_role','learner','date_assigned',\n",
    "                    'date_completed','approx_date',\n",
    "                    'qual','evidence','suggestion','connection']\n",
    "    for c in simple_cols:\n",
    "        if pd.notna(r[c]):\n",
    "            df[c] = df.iloc[:, int(r[c])]\n",
    "        else:\n",
    "            df[c] = nan\n",
    "    \n",
    "    concat_cols = ['text']\n",
    "    for c in concat_cols:\n",
    "        if type(r[c]) == int:\n",
    "            df[c] = df.iloc[:, r[c]]\n",
    "        else:\n",
    "            cols_to_concat = [int(x) for x in r[c].split('|')]\n",
    "            df_to_concat = df.iloc[:, cols_to_concat].fillna(\"\").astype('str')\n",
    "            df[c] = df_to_concat.agg(' '.join, axis=1)\n",
    "\n",
    "    final_cols = simple_cols + concat_cols\n",
    "    \n",
    "    final_df = df.filter(final_cols, axis=1)\n",
    "    final_df['clerkship'] = r['folder']\n",
    "    final_df['from_file'] = r['file'] + '.' + r['extension']\n",
    "    dfs.append(final_df)\n",
    "    "
   ]
  },
  {
   "cell_type": "code",
   "execution_count": 5,
   "metadata": {},
   "outputs": [],
   "source": [
    "dataset = pd.concat(dfs, axis=0)\n",
    "dataset.to_csv('data/processed/um.csv')"
   ]
  },
  {
   "cell_type": "code",
   "execution_count": null,
   "metadata": {},
   "outputs": [],
   "source": [
    "blah = pd.read_excel('data/interim/um/Surgery/OutcomesReport_SURGERY_2023_CT_048056_9P10.xlsx',header=0)"
   ]
  },
  {
   "cell_type": "code",
   "execution_count": null,
   "metadata": {},
   "outputs": [],
   "source": [
    "blah"
   ]
  }
 ],
 "metadata": {
  "kernelspec": {
   "display_name": "nlp-qual-um",
   "language": "python",
   "name": "python3"
  },
  "language_info": {
   "codemirror_mode": {
    "name": "ipython",
    "version": 3
   },
   "file_extension": ".py",
   "mimetype": "text/x-python",
   "name": "python",
   "nbconvert_exporter": "python",
   "pygments_lexer": "ipython3",
   "version": "3.11.10"
  }
 },
 "nbformat": 4,
 "nbformat_minor": 2
}
